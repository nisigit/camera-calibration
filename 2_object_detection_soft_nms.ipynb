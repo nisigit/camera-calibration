{
 "cells": [
  {
   "cell_type": "code",
   "execution_count": 1,
   "metadata": {
    "collapsed": false,
    "pycharm": {
     "is_executing": true
    }
   },
   "outputs": [],
   "source": [
    "import numpy as np"
   ]
  },
  {
   "cell_type": "markdown",
   "metadata": {
    "collapsed": false
   },
   "source": [
    "# Soft NMS Implementation"
   ]
  },
  {
   "cell_type": "code",
   "execution_count": 2,
   "metadata": {
    "collapsed": false
   },
   "outputs": [],
   "source": [
    "# You will need iou function for implementing Soft-NMS, here is the iou implementation from the Lab2\n",
    "def iou(box1, box2):\n",
    "    [box1_x1, box1_y1, box1_x2, box1_y2] = box1\n",
    "    [box2_x1, box2_y1, box2_x2, box2_y2] = box2\n",
    "    xi1 = max(box1_x1, box2_x1)\n",
    "    yi1 = max(box1_y1, box2_y1)\n",
    "    xi2 = min(box1_x2, box2_x2)\n",
    "    yi2 = min(box1_y2, box2_y2)\n",
    "    inter_width = max(0, yi2 - yi1)\n",
    "    inter_height = max(0, xi2 - xi1)\n",
    "    inter_area = inter_width * inter_height\n",
    "    box1_area = (box1_x2 - box1_x1) * ((box1_y2 - box1_y1))\n",
    "    box2_area = (box2_x2 - box2_x1) * ((box2_y2 - box2_y1))\n",
    "    union_area = box1_area + box2_area - inter_area\n",
    "    iou = inter_area / union_area\n",
    "    return iou"
   ]
  },
  {
   "cell_type": "markdown",
   "metadata": {
    "collapsed": false
   },
   "source": [
    "#### Please implementing soft NMS algorithm in soft_nms() function"
   ]
  },
  {
   "cell_type": "code",
   "execution_count": 3,
   "metadata": {
    "collapsed": false
   },
   "outputs": [],
   "source": [
    "def soft_nms(scores: np.array, boxes: np.array,sigma=0.5):\n",
    "    # scores - shape (,n) numpy array that contains scores of bounding boxes\n",
    "    # boxes - shape (n,4) numpy array that contains bounding boxes information.\n",
    "    #        Each element in array is a size=4 array of [x1,y1,x2,y2]\n",
    "    #        Where x1,y1 are the bottom left coordinates of bounding boxes,\n",
    "    #        and x2,y2 are the top right coordinates of bounding boxes.\n",
    "    new_bbox = np.empty((0,4))\n",
    "    new_scores = np.empty((0))\n",
    "\n",
    "    while len(boxes) > 0:\n",
    "        m = np.argmax(scores)\n",
    "        M = boxes[m]\n",
    "        \n",
    "        new_bbox = np.append(new_bbox, [M], axis=0)\n",
    "        new_scores = np.append(new_scores, scores[m])\n",
    "\n",
    "        boxes = np.delete(boxes, m, axis=0)\n",
    "        scores = np.delete(scores, m, axis=0)\n",
    "\n",
    "        for i, box in enumerate(boxes):\n",
    "            M_iou = iou(M, box)\n",
    "            scores[i] *= np.exp(-M_iou**2 / sigma)\n",
    "    \n",
    "    # new_bbox - shape (n,4) numpy array that contains new bounding boxes information\n",
    "    # new_scores - shape (n,) numpy array that contains new bounding boxes scores\n",
    "    return new_bbox, new_scores"
   ]
  },
  {
   "cell_type": "code",
   "execution_count": 4,
   "metadata": {
    "collapsed": false
   },
   "outputs": [
    {
     "name": "stdout",
     "output_type": "stream",
     "text": [
      "scores[2] = 0.31670862436294556\n",
      "boxes[2] = [220. 220. 420. 420.]\n",
      "scores = [0.89999998 0.5        0.31670862 0.11392745 0.06270898]\n",
      "boxes = [[200. 200. 400. 400.]\n",
      " [  1.   1.   2.   2.]\n",
      " [220. 220. 420. 420.]\n",
      " [200. 240. 400. 440.]\n",
      " [240. 200. 440. 400.]]\n",
      "scores.shape = (5,)\n",
      "boxes.shape = (5, 4)\n",
      "\u001b[92m All tests passed!\n"
     ]
    }
   ],
   "source": [
    "boxes = np.array([[200, 200, 400, 400], [220, 220, 420, 420], [200, 240, 400, 440], [240, 200, 440, 400], [1, 1, 2, 2]], dtype=np.float32)\n",
    "scores = np.array([0.9, 0.8, 0.7, 0.6, 0.5], dtype=np.float32)\n",
    "\n",
    "boxes, scores = soft_nms(scores, boxes, sigma=0.5)\n",
    "print(\"scores[2] = \" + str(scores[2]))\n",
    "print(\"boxes[2] = \" + str(boxes[2]))\n",
    "print(\"scores = \" + str(scores))\n",
    "print(\"boxes = \" + str(boxes))\n",
    "print(\"scores.shape = \" + str(scores.shape))\n",
    "print(\"boxes.shape = \" + str(boxes.shape))\n",
    "\n",
    "assert scores.shape == (5,), \"Wrong shape\"\n",
    "assert boxes.shape == (5, 4), \"Wrong shape\"\n",
    "\n",
    "assert np.isclose(scores[2], 0.31670862), \"Wrong value on scores[2]\"\n",
    "assert np.allclose(boxes[2], [220,220,420,420]), \"Wrong value on boxes[2]\"\n",
    "\n",
    "assert np.allclose(scores, np.array([0.9,0.5,0.31670862,0.11392745,0.06270898])), \"Wrong value on scores\"\n",
    "assert np.allclose(boxes, np.array([[200, 200, 400, 400], [1, 1, 2, 2], [220, 220, 420, 420], [200, 240, 400, 440], [240, 200, 440, 400]])), \"Wrong value on boxes\"\n",
    "\n",
    "print(\"\\033[92m All tests passed!\")"
   ]
  },
  {
   "cell_type": "code",
   "execution_count": null,
   "metadata": {},
   "outputs": [],
   "source": []
  }
 ],
 "metadata": {
  "kernelspec": {
   "display_name": "Python 3.10.1 64-bit",
   "language": "python",
   "name": "python3"
  },
  "language_info": {
   "codemirror_mode": {
    "name": "ipython",
    "version": 3
   },
   "file_extension": ".py",
   "mimetype": "text/x-python",
   "name": "python",
   "nbconvert_exporter": "python",
   "pygments_lexer": "ipython3",
   "version": "3.10.1"
  },
  "vscode": {
   "interpreter": {
    "hash": "aee8b7b246df8f9039afb4144a1f6fd8d2ca17a180786b69acc140d282b71a49"
   }
  }
 },
 "nbformat": 4,
 "nbformat_minor": 0
}
